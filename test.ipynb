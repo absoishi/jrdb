{
 "cells": [
  {
   "cell_type": "code",
   "execution_count": 3,
   "metadata": {},
   "outputs": [
    {
     "data": {
      "text/plain": [
       "85"
      ]
     },
     "execution_count": 3,
     "metadata": {},
     "output_type": "execute_result"
    }
   ],
   "source": [
    "# import modules\n",
    "from jrdb import load\n",
    "from jrdb import parse\n",
    "\n",
    "# load text data (ex. SED)\n",
    "loader = load.FileLoader()\n",
    "text_data = loader.load('../../data/jrdb/extract/SED/SED230105.txt')\n",
    "\n",
    "\n",
    "# parse\n",
    "parser = parse.JrdbDataParser()\n",
    "df = parser.parse(text_data, 'SED')   # return pandas DataFrame\n",
    "df\n",
    "# df.start_time.describe()\n",
    "len(df.columns)"
   ]
  },
  {
   "cell_type": "code",
   "execution_count": 5,
   "metadata": {},
   "outputs": [
    {
     "data": {
      "text/plain": [
       "32"
      ]
     },
     "execution_count": 5,
     "metadata": {},
     "output_type": "execute_result"
    }
   ],
   "source": [
    "# import modules\n",
    "from jrdb import load\n",
    "from jrdb import parse\n",
    "\n",
    "# load text data (ex. SED)\n",
    "loader = load.FileLoader()\n",
    "text_data = loader.load('../../data/jrdb/extract/KAB/KAB010331.txt')\n",
    "\n",
    "\n",
    "# parse\n",
    "parser = parse.JrdbDataParser()\n",
    "df = parser.parse(text_data, 'KAB')   # return pandas DataFrame\n",
    "df\n",
    "# df.start_time.describe()\n",
    "len(df.columns)\n",
    "# df\n",
    "# df.columns\n"
   ]
  }
 ],
 "metadata": {
  "kernelspec": {
   "display_name": "Python 3",
   "language": "python",
   "name": "python3"
  },
  "language_info": {
   "codemirror_mode": {
    "name": "ipython",
    "version": 3
   },
   "file_extension": ".py",
   "mimetype": "text/x-python",
   "name": "python",
   "nbconvert_exporter": "python",
   "pygments_lexer": "ipython3",
   "version": "3.11.2"
  },
  "orig_nbformat": 4
 },
 "nbformat": 4,
 "nbformat_minor": 2
}
